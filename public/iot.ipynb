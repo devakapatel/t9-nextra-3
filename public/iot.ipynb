{
  "nbformat": 4,
  "nbformat_minor": 0,
  "metadata": {
    "colab": {
      "provenance": [],
      "collapsed_sections": [
        "hTGUQcicx8QP",
        "_bXx18kmy3OZ",
        "Ue9uvXygzdom"
      ],
      "gpuType": "V28"
    },
    "kernelspec": {
      "name": "python3",
      "display_name": "Python 3"
    },
    "language_info": {
      "name": "python"
    },
    "accelerator": "TPU"
  },
  "cells": [
    {
      "cell_type": "markdown",
      "source": [
        "# ⚠️ ⚠️ ⚠️\n",
        "# **Open a new colab yourself and just copy paste the code(s) required, running in this same colab will show errors, due to cross dependencies.**"
      ],
      "metadata": {
        "id": "Dj7fyd9VBOD0"
      }
    },
    {
      "cell_type": "markdown",
      "source": [
        "# **Practical 1**"
      ],
      "metadata": {
        "id": "hTGUQcicx8QP"
      }
    },
    {
      "cell_type": "code",
      "source": [
        "!pip install paho-mqtt\n",
        "\n",
        "import paho.mqtt.client as mqtt\n",
        "\n",
        "# Callback when connected to the broker\n",
        "def on_connect(client, userdata, flags, rc):\n",
        "    print(\"Connected with result code \" + str(rc))\n",
        "    client.subscribe(\"iot/test\")\n",
        "\n",
        "# Callback when a message is received\n",
        "def on_message(client, userdata, msg):\n",
        "    print(f\"Message received: {msg.payload.decode()}\")\n",
        "\n",
        "# Create MQTT client instance\n",
        "client = mqtt.Client()\n",
        "client.on_connect = on_connect\n",
        "client.on_message = on_message\n",
        "\n",
        "# Connect to public MQTT broker\n",
        "client.connect(\"broker.hivemq.com\", 1883, 60)\n",
        "\n",
        "# Start loop to process network traffic\n",
        "client.loop_start()\n",
        "\n",
        "# Publish a test message\n",
        "client.publish(\"iot/test\", \"Hello IoT\")\n",
        "\n",
        "# Stop the loop after short delay (optional in production)\n",
        "import time\n",
        "time.sleep(2)  # Allow time for message to be received\n",
        "client.loop_stop()"
      ],
      "metadata": {
        "colab": {
          "base_uri": "https://localhost:8080/"
        },
        "id": "1BnQ4TiLyGJk",
        "outputId": "f1e4a03f-868e-4b78-d9ae-981af7793b9a"
      },
      "execution_count": 4,
      "outputs": [
        {
          "output_type": "stream",
          "name": "stdout",
          "text": [
            "Collecting paho-mqtt\n",
            "  Downloading paho_mqtt-2.1.0-py3-none-any.whl.metadata (23 kB)\n",
            "Downloading paho_mqtt-2.1.0-py3-none-any.whl (67 kB)\n",
            "\u001b[?25l   \u001b[90m━━━━━━━━━━━━━━━━━━━━━━━━━━━━━━━━━━━━━━━━\u001b[0m \u001b[32m0.0/67.2 kB\u001b[0m \u001b[31m?\u001b[0m eta \u001b[36m-:--:--\u001b[0m\r\u001b[2K   \u001b[90m━━━━━━━━━━━━━━━━━━━━━━━━━━━━━━━━━━━━━━━━\u001b[0m \u001b[32m67.2/67.2 kB\u001b[0m \u001b[31m2.5 MB/s\u001b[0m eta \u001b[36m0:00:00\u001b[0m\n",
            "\u001b[?25hInstalling collected packages: paho-mqtt\n",
            "Successfully installed paho-mqtt-2.1.0\n"
          ]
        },
        {
          "output_type": "stream",
          "name": "stderr",
          "text": [
            "<ipython-input-4-477232011ba6>:15: DeprecationWarning: Callback API version 1 is deprecated, update to latest version\n",
            "  client = mqtt.Client()\n"
          ]
        },
        {
          "output_type": "stream",
          "name": "stdout",
          "text": [
            "Connected with result code 0\n",
            "Message received: Pressure = 966.88 hPa\n"
          ]
        },
        {
          "output_type": "execute_result",
          "data": {
            "text/plain": [
              "<MQTTErrorCode.MQTT_ERR_SUCCESS: 0>"
            ]
          },
          "metadata": {},
          "execution_count": 4
        }
      ]
    },
    {
      "cell_type": "markdown",
      "source": [
        "# **Practical 2**"
      ],
      "metadata": {
        "id": "_bXx18kmy3OZ"
      }
    },
    {
      "cell_type": "code",
      "source": [
        "import random\n",
        "import time\n",
        "import json\n",
        "from datetime import datetime\n",
        "\n",
        "# Generate sensor data for temperature, humidity, pressure, and light\n",
        "def generate_sensor_data():\n",
        "    data = {\n",
        "        \"timestamp\": datetime.now().strftime(\"%Y-%m-%d %H:%M:%S\"),\n",
        "        \"temperature\": round(random.uniform(20.0, 30.0), 2),     # °C\n",
        "        \"humidity\": round(random.uniform(40.0, 60.0), 2),        # %\n",
        "        \"pressure\": round(random.uniform(980.0, 1030.0), 2),     # hPa\n",
        "        \"light_intensity\": round(random.uniform(0.0, 1000.0), 2) # lux\n",
        "    }\n",
        "    return data\n",
        "\n",
        "# Collect sensor data for given duration and interval\n",
        "def collect_sensor_data(duration, interval, output_file):\n",
        "    collected_data = []\n",
        "    start_time = time.time()\n",
        "    print(\"Starting sensor data collection...\\n\")\n",
        "\n",
        "    while time.time() - start_time < duration:\n",
        "        data = generate_sensor_data()\n",
        "        collected_data.append(data)\n",
        "        print(\"Collected:\", data)\n",
        "        time.sleep(interval)\n",
        "\n",
        "    # Save to JSON file\n",
        "    with open(output_file, 'w') as f:\n",
        "        json.dump(collected_data, f, indent=4)\n",
        "\n",
        "    print(f\"\\nData saved to {output_file}\")\n",
        "\n",
        "# Main execution\n",
        "if __name__ == \"__main__\":\n",
        "    collect_sensor_data(duration=30, interval=5, output_file=\"enhanced_sensor_data.json\")"
      ],
      "metadata": {
        "colab": {
          "base_uri": "https://localhost:8080/"
        },
        "id": "kKviQoR2y6hN",
        "outputId": "740330b4-c2c2-4615-bab5-b0f72c44bff4"
      },
      "execution_count": 5,
      "outputs": [
        {
          "output_type": "stream",
          "name": "stdout",
          "text": [
            "Starting sensor data collection...\n",
            "\n",
            "Collected: {'timestamp': '2025-05-02 03:19:27', 'temperature': 23.06, 'humidity': 48.56, 'pressure': 1006.53, 'light_intensity': 989.49}\n",
            "Collected: {'timestamp': '2025-05-02 03:19:32', 'temperature': 22.85, 'humidity': 53.21, 'pressure': 1006.77, 'light_intensity': 877.45}\n",
            "Collected: {'timestamp': '2025-05-02 03:19:37', 'temperature': 23.72, 'humidity': 59.86, 'pressure': 990.15, 'light_intensity': 397.12}\n",
            "Collected: {'timestamp': '2025-05-02 03:19:42', 'temperature': 25.11, 'humidity': 56.31, 'pressure': 1024.25, 'light_intensity': 890.76}\n",
            "Collected: {'timestamp': '2025-05-02 03:19:47', 'temperature': 22.88, 'humidity': 55.29, 'pressure': 1010.84, 'light_intensity': 795.58}\n",
            "Collected: {'timestamp': '2025-05-02 03:19:52', 'temperature': 23.63, 'humidity': 43.93, 'pressure': 1001.81, 'light_intensity': 432.45}\n",
            "\n",
            "Data saved to enhanced_sensor_data.json\n"
          ]
        }
      ]
    },
    {
      "cell_type": "markdown",
      "source": [
        "# **Practical 3**"
      ],
      "metadata": {
        "id": "Ue9uvXygzdom"
      }
    },
    {
      "cell_type": "code",
      "source": [
        "!pip install dash\n",
        "\n",
        "from dash import Dash, dcc, html\n",
        "from dash.dependencies import Input, Output\n",
        "import plotly.graph_objs as go\n",
        "import random, time, threading\n",
        "\n",
        "# Simulated data store\n",
        "data = {'time': [], 'temperature': [], 'humidity': [], 'air_pressure': []}\n",
        "\n",
        "# Simulated Sensor Data Generator\n",
        "def generate_sensor_data():\n",
        "    while True:\n",
        "        data['temperature'].append(round(random.uniform(20.0, 30.0), 2))\n",
        "        data['humidity'].append(round(random.uniform(40.0, 60.0), 2))\n",
        "        data['air_pressure'].append(round(random.uniform(980.0, 1050.0), 2))\n",
        "        data['time'].append(time.strftime(\"%H:%M:%S\"))\n",
        "\n",
        "        if len(data['time']) > 100:\n",
        "            for key in data:\n",
        "                data[key] = data[key][-100:]\n",
        "\n",
        "        time.sleep(1)\n",
        "\n",
        "# Start sensor data thread\n",
        "threading.Thread(target=generate_sensor_data, daemon=True).start()\n",
        "\n",
        "# Dash App\n",
        "app = Dash(__name__)\n",
        "app.layout = html.Div([\n",
        "    html.H1(\"Real-Time IoT Sensor Dashboard\", style={'textAlign': 'center'}),\n",
        "\n",
        "    # Digital Displays\n",
        "    html.Div([\n",
        "        html.Div(id='temperature-digital', style={'fontSize': '30px', 'margin': '10px'}),\n",
        "        html.Div(id='humidity-digital', style={'fontSize': '30px', 'margin': '10px'}),\n",
        "        html.Div(id='air-pressure-digital', style={'fontSize': '30px', 'margin': '10px'})\n",
        "    ], style={'display': 'flex', 'justifyContent': 'space-around'}),\n",
        "\n",
        "    # Graphs\n",
        "    html.Div([\n",
        "        dcc.Graph(id='temperature-graph'),\n",
        "        dcc.Graph(id='humidity-graph'),\n",
        "        dcc.Graph(id='air-pressure-graph')\n",
        "    ]),\n",
        "\n",
        "    dcc.Interval(id='interval-component', interval=1000, n_intervals=0)\n",
        "])\n",
        "\n",
        "@app.callback(\n",
        "    [Output('temperature-graph', 'figure'),\n",
        "     Output('humidity-graph', 'figure'),\n",
        "     Output('air-pressure-graph', 'figure'),\n",
        "     Output('temperature-digital', 'children'),\n",
        "     Output('humidity-digital', 'children'),\n",
        "     Output('air-pressure-digital', 'children')],\n",
        "    [Input('interval-component', 'n_intervals')]\n",
        ")\n",
        "def update_dashboard(n):\n",
        "    temp_fig = go.Figure([go.Scatter(x=data['time'], y=data['temperature'], mode='lines+markers')])\n",
        "    temp_fig.update_layout(title=\"Temperature Over Time\", xaxis_title=\"Time\", yaxis_title=\"°C\")\n",
        "\n",
        "    hum_fig = go.Figure([go.Scatter(x=data['time'], y=data['humidity'], mode='lines+markers')])\n",
        "    hum_fig.update_layout(title=\"Humidity Over Time\", xaxis_title=\"Time\", yaxis_title=\"%\")\n",
        "\n",
        "    press_fig = go.Figure([go.Scatter(x=data['time'], y=data['air_pressure'], mode='lines+markers')])\n",
        "    press_fig.update_layout(title=\"Air Pressure Over Time\", xaxis_title=\"Time\", yaxis_title=\"hPa\")\n",
        "\n",
        "    temp_val = f\"Temperature: {data['temperature'][-1]} °C\" if data['temperature'] else \"N/A\"\n",
        "    hum_val = f\"Humidity: {data['humidity'][-1]} %\" if data['humidity'] else \"N/A\"\n",
        "    press_val = f\"Air Pressure: {data['air_pressure'][-1]} hPa\" if data['air_pressure'] else \"N/A\"\n",
        "\n",
        "    return temp_fig, hum_fig, press_fig, temp_val, hum_val, press_val\n",
        "\n",
        "if __name__ == '__main__':\n",
        "    app.run(debug=True)\n"
      ],
      "metadata": {
        "colab": {
          "base_uri": "https://localhost:8080/",
          "height": 1000
        },
        "id": "_ncAKAuRzgWA",
        "outputId": "31c3c085-2284-495b-b122-f4590a1b177f"
      },
      "execution_count": 7,
      "outputs": [
        {
          "output_type": "stream",
          "name": "stdout",
          "text": [
            "Collecting dash\n",
            "  Using cached dash-3.0.4-py3-none-any.whl.metadata (10 kB)\n",
            "Collecting Flask<3.1,>=1.0.4 (from dash)\n",
            "  Using cached flask-3.0.3-py3-none-any.whl.metadata (3.2 kB)\n",
            "Requirement already satisfied: Werkzeug<3.1 in /usr/local/lib/python3.11/dist-packages (from dash) (3.0.6)\n",
            "Requirement already satisfied: plotly>=5.0.0 in /usr/local/lib/python3.11/dist-packages (from dash) (5.24.1)\n",
            "Requirement already satisfied: importlib-metadata in /usr/lib/python3/dist-packages (from dash) (4.6.4)\n",
            "Requirement already satisfied: typing-extensions>=4.1.1 in /usr/local/lib/python3.11/dist-packages (from dash) (4.13.2)\n",
            "Requirement already satisfied: requests in /usr/local/lib/python3.11/dist-packages (from dash) (2.32.3)\n",
            "Requirement already satisfied: retrying in /usr/local/lib/python3.11/dist-packages (from dash) (1.3.4)\n",
            "Requirement already satisfied: nest-asyncio in /usr/local/lib/python3.11/dist-packages (from dash) (1.6.0)\n",
            "Requirement already satisfied: setuptools in /usr/local/lib/python3.11/dist-packages (from dash) (75.2.0)\n",
            "Requirement already satisfied: Jinja2>=3.1.2 in /usr/local/lib/python3.11/dist-packages (from Flask<3.1,>=1.0.4->dash) (3.1.6)\n",
            "Requirement already satisfied: itsdangerous>=2.1.2 in /usr/local/lib/python3.11/dist-packages (from Flask<3.1,>=1.0.4->dash) (2.2.0)\n",
            "Requirement already satisfied: click>=8.1.3 in /usr/local/lib/python3.11/dist-packages (from Flask<3.1,>=1.0.4->dash) (8.1.8)\n",
            "Collecting blinker>=1.6.2 (from Flask<3.1,>=1.0.4->dash)\n",
            "  Using cached blinker-1.9.0-py3-none-any.whl.metadata (1.6 kB)\n",
            "Requirement already satisfied: tenacity>=6.2.0 in /usr/local/lib/python3.11/dist-packages (from plotly>=5.0.0->dash) (9.1.2)\n",
            "Requirement already satisfied: packaging in /usr/local/lib/python3.11/dist-packages (from plotly>=5.0.0->dash) (25.0)\n",
            "Requirement already satisfied: MarkupSafe>=2.1.1 in /usr/local/lib/python3.11/dist-packages (from Werkzeug<3.1->dash) (3.0.2)\n",
            "Requirement already satisfied: charset-normalizer<4,>=2 in /usr/local/lib/python3.11/dist-packages (from requests->dash) (3.4.1)\n",
            "Requirement already satisfied: idna<4,>=2.5 in /usr/local/lib/python3.11/dist-packages (from requests->dash) (3.10)\n",
            "Requirement already satisfied: urllib3<3,>=1.21.1 in /usr/local/lib/python3.11/dist-packages (from requests->dash) (2.4.0)\n",
            "Requirement already satisfied: certifi>=2017.4.17 in /usr/local/lib/python3.11/dist-packages (from requests->dash) (2025.4.26)\n",
            "Requirement already satisfied: six>=1.7.0 in /usr/local/lib/python3.11/dist-packages (from retrying->dash) (1.17.0)\n",
            "Using cached dash-3.0.4-py3-none-any.whl (7.9 MB)\n",
            "Using cached flask-3.0.3-py3-none-any.whl (101 kB)\n",
            "Using cached blinker-1.9.0-py3-none-any.whl (8.5 kB)\n",
            "Installing collected packages: blinker, Flask, dash\n",
            "  Attempting uninstall: blinker\n",
            "    Found existing installation: blinker 1.4\n",
            "\u001b[1;31merror\u001b[0m: \u001b[1muninstall-distutils-installed-package\u001b[0m\n",
            "\n",
            "\u001b[31m×\u001b[0m Cannot uninstall blinker 1.4\n",
            "\u001b[31m╰─>\u001b[0m It is a distutils installed project and thus we cannot accurately determine which files belong to it which would lead to only a partial uninstall.\n"
          ]
        },
        {
          "output_type": "error",
          "ename": "ModuleNotFoundError",
          "evalue": "No module named 'dash'",
          "traceback": [
            "\u001b[0;31m---------------------------------------------------------------------------\u001b[0m",
            "\u001b[0;31mModuleNotFoundError\u001b[0m                       Traceback (most recent call last)",
            "\u001b[0;32m<ipython-input-7-33a22ad1b245>\u001b[0m in \u001b[0;36m<cell line: 0>\u001b[0;34m()\u001b[0m\n\u001b[1;32m      1\u001b[0m \u001b[0mget_ipython\u001b[0m\u001b[0;34m(\u001b[0m\u001b[0;34m)\u001b[0m\u001b[0;34m.\u001b[0m\u001b[0msystem\u001b[0m\u001b[0;34m(\u001b[0m\u001b[0;34m'pip install dash'\u001b[0m\u001b[0;34m)\u001b[0m\u001b[0;34m\u001b[0m\u001b[0;34m\u001b[0m\u001b[0m\n\u001b[1;32m      2\u001b[0m \u001b[0;34m\u001b[0m\u001b[0m\n\u001b[0;32m----> 3\u001b[0;31m \u001b[0;32mfrom\u001b[0m \u001b[0mdash\u001b[0m \u001b[0;32mimport\u001b[0m \u001b[0mDash\u001b[0m\u001b[0;34m,\u001b[0m \u001b[0mdcc\u001b[0m\u001b[0;34m,\u001b[0m \u001b[0mhtml\u001b[0m\u001b[0;34m\u001b[0m\u001b[0;34m\u001b[0m\u001b[0m\n\u001b[0m\u001b[1;32m      4\u001b[0m \u001b[0;32mfrom\u001b[0m \u001b[0mdash\u001b[0m\u001b[0;34m.\u001b[0m\u001b[0mdependencies\u001b[0m \u001b[0;32mimport\u001b[0m \u001b[0mInput\u001b[0m\u001b[0;34m,\u001b[0m \u001b[0mOutput\u001b[0m\u001b[0;34m\u001b[0m\u001b[0;34m\u001b[0m\u001b[0m\n\u001b[1;32m      5\u001b[0m \u001b[0;32mimport\u001b[0m \u001b[0mplotly\u001b[0m\u001b[0;34m.\u001b[0m\u001b[0mgraph_objs\u001b[0m \u001b[0;32mas\u001b[0m \u001b[0mgo\u001b[0m\u001b[0;34m\u001b[0m\u001b[0;34m\u001b[0m\u001b[0m\n",
            "\u001b[0;31mModuleNotFoundError\u001b[0m: No module named 'dash'",
            "",
            "\u001b[0;31m---------------------------------------------------------------------------\u001b[0;32m\nNOTE: If your import is failing due to a missing package, you can\nmanually install dependencies using either !pip or !apt.\n\nTo view examples of installing some common dependencies, click the\n\"Open Examples\" button below.\n\u001b[0;31m---------------------------------------------------------------------------\u001b[0m\n"
          ],
          "errorDetails": {
            "actions": [
              {
                "action": "open_url",
                "actionText": "Open Examples",
                "url": "/notebooks/snippets/importing_libraries.ipynb"
              }
            ]
          }
        }
      ]
    },
    {
      "cell_type": "markdown",
      "source": [
        "# **Practical 4**"
      ],
      "metadata": {
        "id": "6e-Iy9zk0DHI"
      }
    },
    {
      "cell_type": "code",
      "source": [
        "import requests\n",
        "import random\n",
        "import time\n",
        "import matplotlib.pyplot as plt\n",
        "from datetime import datetime\n",
        "\n",
        "# ThingSpeak API Key\n",
        "# Note: Replace these with your actual API keys and channel ID\n",
        "WRITE_API_KEY = \"2BP633L92JHJRV62\" # Placeholder key from document\n",
        "READ_API_KEY = \"52YPAO3SPC89EKAJ\"   # Placeholder key from document\n",
        "CHANNEL_ID = \"2832723\"           # Placeholder ID from document\n",
        "\n",
        "# URL for updating data\n",
        "WRITE_URL = f\"https://api.thingspeak.com/update\" # Corrected URL format based on usage\n",
        "\n",
        "def send_data_to_thingspeak(temperature, humidity):\n",
        "    \"\"\"Sends temperature and humidity data to ThingSpeak.\"\"\"\n",
        "    url = f'{WRITE_URL}?api_key={WRITE_API_KEY}&field1={temperature}&field2={humidity}'\n",
        "    response = requests.get(url)\n",
        "\n",
        "    if response.status_code == 200:\n",
        "        print(f\"Data sent successfully: Temp={temperature}°C, Humidity={humidity}%\")\n",
        "    else:\n",
        "        print(f\"Failed to send data. Status code: {response.status_code}\") # Added status code for debugging\n",
        "\n",
        "# Simulated Sensor Data Upload\n",
        "for _ in range(10): # Sending 10 data points\n",
        "    temp = round(random.uniform(20.0, 30.0), 2)\n",
        "    hum = round(random.uniform(40.0, 60.0), 2)\n",
        "\n",
        "    send_data_to_thingspeak(temp, hum)\n",
        "    time.sleep(15) # ThingSpeak allows updates every 15 seconds\n",
        "\n",
        "def retrieve_data_from_thingspeak():\n",
        "    \"\"\"Retrieves the latest data from ThingSpeak.\"\"\"\n",
        "    url = f'https://api.thingspeak.com/channels/{CHANNEL_ID}/feeds.json?api_key={READ_API_KEY}&results=10'\n",
        "    response = requests.get(url).json()\n",
        "\n",
        "    feeds = response['feeds']\n",
        "\n",
        "    # Ensure feeds is not empty before processing\n",
        "    if not feeds:\n",
        "        print(\"No data retrieved from ThingSpeak.\")\n",
        "        return [], [], []\n",
        "\n",
        "    timestamps = [datetime.strptime(feed['created_at'], '%Y-%m-%dT%H:%M:%SZ') for feed in feeds]\n",
        "    temperatures = [float(feed['field1']) for feed in feeds]\n",
        "    humidities = [float(feed['field2']) for feed in feeds]\n",
        "\n",
        "    return timestamps, temperatures, humidities\n",
        "\n",
        "# Retrieve and Plot Data\n",
        "timestamps, temperatures, humidities = retrieve_data_from_thingspeak()\n",
        "\n",
        "if timestamps: # Proceed only if data was retrieved\n",
        "    plt.figure(figsize=(12, 6))\n",
        "\n",
        "    plt.plot(timestamps, temperatures, label='Temperature (°C)', marker='o')\n",
        "    plt.plot(timestamps, humidities, label='Humidity (%)', marker='s')\n",
        "\n",
        "    plt.xlabel('Time')\n",
        "    plt.ylabel('Value')\n",
        "    plt.title('IoT Sensor Data from ThingSpeak')\n",
        "    plt.legend()\n",
        "    plt.grid(True)\n",
        "    plt.xticks(rotation=45)\n",
        "    plt.tight_layout()\n",
        "    plt.show()"
      ],
      "metadata": {
        "colab": {
          "base_uri": "https://localhost:8080/",
          "height": 785
        },
        "id": "Xhyl75Ql0JLh",
        "outputId": "2bda16d6-7ae7-4f2d-e0c3-b83f310327f0"
      },
      "execution_count": 8,
      "outputs": [
        {
          "output_type": "stream",
          "name": "stdout",
          "text": [
            "Data sent successfully: Temp=25.05°C, Humidity=44.44%\n",
            "Data sent successfully: Temp=20.48°C, Humidity=40.65%\n",
            "Data sent successfully: Temp=26.9°C, Humidity=48.98%\n",
            "Data sent successfully: Temp=29.6°C, Humidity=52.92%\n",
            "Data sent successfully: Temp=20.85°C, Humidity=54.46%\n",
            "Data sent successfully: Temp=29.62°C, Humidity=52.34%\n",
            "Data sent successfully: Temp=25.33°C, Humidity=43.76%\n",
            "Data sent successfully: Temp=23.6°C, Humidity=49.01%\n",
            "Data sent successfully: Temp=29.23°C, Humidity=46.35%\n",
            "Data sent successfully: Temp=23.35°C, Humidity=41.27%\n"
          ]
        },
        {
          "output_type": "display_data",
          "data": {
            "text/plain": [
              "<Figure size 1200x600 with 1 Axes>"
            ],
            "image/png": "[encoded data removed]"
          },
          "metadata": {}
        }
      ]
    },
    {
      "cell_type": "markdown",
      "source": [
        "# **Practical 5**"
      ],
      "metadata": {
        "id": "T_MCY5Jw0wKF"
      }
    },
    {
      "cell_type": "code",
      "source": [
        "!pip install filterpy\n",
        "\n",
        "import numpy as np\n",
        "import pandas as pd\n",
        "import matplotlib.pyplot as plt\n",
        "from filterpy.kalman import KalmanFilter\n",
        "from filterpy.common import Q_discrete_white_noise\n",
        "\n",
        "# Simulated Sensor Data Generation\n",
        "def generate_sensor_data(n=100):\n",
        "    np.random.seed(42)\n",
        "    temperature = np.random.normal(25, 2, n)  # Mean 25C, Std Dev 2\n",
        "    humidity = np.random.normal(50, 5, n)  # Mean 50%, Std Dev 5\n",
        "    return pd.DataFrame({'Temperature': temperature, 'Humidity': humidity})\n",
        "\n",
        "# Moving Average Filter\n",
        "def moving_average_filter(data, window_size=5):\n",
        "    return data.rolling(window=window_size, center=True).mean()\n",
        "\n",
        "# Median Filter\n",
        "def median_filter(data, window_size=5):\n",
        "    return data.rolling(window=window_size, center=True).median()\n",
        "\n",
        "# Threshold-Based Filtering\n",
        "def threshold_filter(data, temp_range=(20, 30), hum_range=(40, 60)):\n",
        "    filtered_data = data[(data['Temperature'].between(*temp_range)) &\n",
        "                         (data['Humidity'].between(*hum_range))]\n",
        "    return filtered_data\n",
        "\n",
        "# Kalman Filter Implementation\n",
        "def setup_kalman_filter():\n",
        "    kf = KalmanFilter(dim_x=2, dim_z=1)  # State: [position, velocity], Measurement: position\n",
        "    dt = 1.0  # time step\n",
        "    kf.F = np.array([[1., dt], [0., 1.]])  # State transition matrix\n",
        "    kf.H = np.array([[1., 0.]])  # Measurement matrix\n",
        "    kf.R = np.array([[0.5]])  # Measurement noise variance\n",
        "    kf.Q = Q_discrete_white_noise(dim=2, dt=dt, var=0.13)  # Process noise\n",
        "    kf.x = np.array([[0.], [0.]])  # Initial state\n",
        "    kf.P = np.array([[1., 0.], [0., 1.]])  # Initial state covariance\n",
        "    return kf\n",
        "\n",
        "def kalman_filter(data):\n",
        "    kf = setup_kalman_filter()\n",
        "    filtered_data = np.zeros(len(data))\n",
        "    for i, measurement in enumerate(data):\n",
        "        kf.predict()\n",
        "        kf.update(measurement)\n",
        "        filtered_data[i] = kf.x[0]\n",
        "    return filtered_data\n",
        "\n",
        "# Generate and process data\n",
        "data = generate_sensor_data()\n",
        "smoothed_data = moving_average_filter(data)\n",
        "median_filtered_data = median_filter(data)\n",
        "kalman_filtered_temp = kalman_filter(data['Temperature'].values)\n",
        "\n",
        "# Visualization\n",
        "plt.figure(figsize=(12, 8))\n",
        "\n",
        "# Plot 1: Temperature\n",
        "plt.subplot(2, 1, 1)\n",
        "plt.plot(data['Temperature'], 'gray', alpha=0.5, label='Raw Temperature', linestyle='dotted')\n",
        "plt.plot(smoothed_data['Temperature'], 'b', label='Moving Average', alpha=0.7)\n",
        "plt.plot(median_filtered_data['Temperature'], 'g', label='Median Filter', alpha=0.7)\n",
        "plt.plot(kalman_filtered_temp, 'r', label='Kalman Filter', alpha=0.7)\n",
        "plt.ylabel('Temperature (°C)')\n",
        "plt.title('Comparison of Different Filtering Techniques')\n",
        "plt.legend()\n",
        "plt.grid(True, alpha=0.3)\n",
        "\n",
        "# Plot 2: Error Analysis\n",
        "plt.subplot(2, 1, 2)\n",
        "mae_ma = np.abs(data['Temperature'] - smoothed_data['Temperature']).mean()\n",
        "mae_median = np.abs(data['Temperature'] - median_filtered_data['Temperature']).mean()\n",
        "mae_kalman = np.abs(data['Temperature'] - kalman_filtered_temp).mean()\n",
        "errors = [mae_ma, mae_median, mae_kalman]\n",
        "plt.bar(['Moving Average', 'Median Filter', 'Kalman Filter'], errors, color=['blue', 'green', 'red'], alpha=0.6)\n",
        "plt.ylabel('Mean Absolute Error')\n",
        "plt.title('Error Analysis of Different Filters')\n",
        "plt.tight_layout()\n",
        "plt.show()\n",
        "\n",
        "# Print error metrics\n",
        "print(\"\\nError Analysis:\")\n",
        "print(f\"Moving Average MAE: {mae_ma:.3f}°C\")\n",
        "print(f\"Median Filter MAE: {mae_median:.3f}°C\")\n",
        "print(f\"Kalman Filter MAE: {mae_kalman:.3f}°C\")\n"
      ],
      "metadata": {
        "id": "S8micz1n0y4R"
      },
      "execution_count": null,
      "outputs": []
    },
    {
      "cell_type": "markdown",
      "source": [
        "# **Practical 6**"
      ],
      "metadata": {
        "id": "UeHeXI253X6v"
      }
    },
    {
      "cell_type": "code",
      "source": [
        "import hashlib\n",
        "import random\n",
        "import time\n",
        "\n",
        "def hash_data(data):\n",
        "    \"\"\"Hashes input data using SHA-256 algorithm.\"\"\"\n",
        "    return hashlib.sha256(data.encode()).hexdigest()\n",
        "\n",
        "def verify_hash(original_data, hashed_data):\n",
        "    \"\"\"Verifies whether the hash of the given data matches the stored hash.\"\"\"\n",
        "    try:\n",
        "        return hash_data(original_data) == hashed_data\n",
        "    except Exception as e: # Added basic exception handling\n",
        "        print(f\"Error during verification: {e}\")\n",
        "        return False\n",
        "\n",
        "# Simulate generating and hashing data indefinitely until interrupted\n",
        "try:\n",
        "    while True:\n",
        "        # Generate random IoT sensor data\n",
        "        temperature = round(random.uniform(20.0, 30.0), 1)\n",
        "        humidity = random.randint(40, 80)\n",
        "        sensor_data = f\"Temperature: {temperature}°C, Humidity: {humidity}%\"\n",
        "\n",
        "        # Apply Hashing\n",
        "        hashed_data = hash_data(sensor_data)\n",
        "        verification = verify_hash(sensor_data, hashed_data)\n",
        "\n",
        "        # Print results\n",
        "        print(\"\\nOriginal Data:\", sensor_data)\n",
        "        print(\"Hashed Data:\", hashed_data)\n",
        "        print(\"Verification Successful:\", verification)\n",
        "\n",
        "        # Pause before generating new data\n",
        "        time.sleep(2)\n",
        "\n",
        "except KeyboardInterrupt:\n",
        "    print(\"\\nProcess stopped by user.\")"
      ],
      "metadata": {
        "id": "IuFucdXz3b4q"
      },
      "execution_count": null,
      "outputs": []
    },
    {
      "cell_type": "markdown",
      "source": [
        "# **Practical 7**\n",
        "\n",
        "> ⚠️ if this practical is being asked, run this practical in new colab, otherwise it will give error due to dependencies issue from other practicals in this same colab."
      ],
      "metadata": {
        "id": "w32Um89n4ukV"
      }
    },
    {
      "cell_type": "code",
      "source": [
        "!pip install flask pyngrok # install libraries required\n",
        "\n",
        "from flask import Flask, request, jsonify\n",
        "\n",
        "app = Flask(__name__)\n",
        "\n",
        "device_state = {\"LED\": \"OFF\"} # Initial state of the virtual IoT device\n",
        "\n",
        "@app.route('/')\n",
        "def home():\n",
        "    \"\"\"Displays instructions on how to use the API.\"\"\"\n",
        "    return \"<h1>IoT Device Control</h1><p>Use /control?device=LED&state=ON to control the device.</p>\"\n",
        "\n",
        "@app.route('/control', methods=['GET'])\n",
        "def control_device():\n",
        "    \"\"\"Handles device control requests.\"\"\"\n",
        "    device = request.args.get('device')\n",
        "    state = request.args.get('state')\n",
        "\n",
        "    if device in device_state and state in [\"ON\", \"OFF\"]:\n",
        "        device_state[device] = state\n",
        "        return jsonify({\"message\": f\"{device} turned {state}\"})\n",
        "    else:\n",
        "        return jsonify({\"error\": \"Invalid device or state\"})\n",
        "\n",
        "@app.route('/status', methods=['GET'])\n",
        "def device_status():\n",
        "    \"\"\"Returns the current state of the device(s).\"\"\"\n",
        "    return jsonify(device_state)\n",
        "\n",
        "if __name__ == '__main__':\n",
        "    # This runs the Flask development server.\n",
        "    # For production, use a more robust server like Gunicorn or uWSGI.\n",
        "    app.run(host='0.0.0.0', port=5000)"
      ],
      "metadata": {
        "id": "6j6fjfa54z0G"
      },
      "execution_count": null,
      "outputs": []
    },
    {
      "cell_type": "markdown",
      "source": [
        "# **Practical 8**"
      ],
      "metadata": {
        "id": "7GgGLeIG6vAn"
      }
    },
    {
      "cell_type": "code",
      "source": [
        "import pandas as pd\n",
        "import numpy as np\n",
        "import matplotlib.pyplot as plt\n",
        "import seaborn as sns\n",
        "from sklearn.model_selection import train_test_split\n",
        "from sklearn.ensemble import RandomForestClassifier\n",
        "from sklearn.metrics import accuracy_score, classification_report, confusion_matrix\n",
        "\n",
        "# Set random seed for reproducibility\n",
        "np.random.seed(42)\n",
        "\n",
        "# Generate dataset with 1000 samples\n",
        "num_samples = 1000\n",
        "\n",
        "# Simulate sensor readings\n",
        "temperature = np.random.randint(30, 100, num_samples)  # Temperature in Celsius\n",
        "vibration = np.round(np.random.uniform(0.1, 3.0, num_samples), 2)  # Vibration level\n",
        "pressure = np.random.randint(50, 400, num_samples)  # Pressure in kPa\n",
        "humidity = np.random.randint(20, 80, num_samples)  # Humidity in %\n",
        "machine_age = np.random.randint(1, 20, num_samples)  # Machine age in years\n",
        "\n",
        "# Generate failure labels (1 = Failure, 0 = No Failure) based on conditions\n",
        "failure = np.where(\n",
        "    (temperature > 80) & (vibration > 2.0) & (pressure > 300) & (humidity > 60),\n",
        "    1,  # High failure risk\n",
        "    np.random.choice([0, 1], size=num_samples, p=[0.85, 0.15])  # 15% random failures\n",
        ")\n",
        "\n",
        "# Create DataFrame\n",
        "df = pd.DataFrame({\n",
        "    \"Temperature\": temperature,\n",
        "    \"Vibration\": vibration,\n",
        "    \"Pressure\": pressure,\n",
        "    \"Humidity\": humidity,\n",
        "    \"Machine_Age\": machine_age,\n",
        "    \"Failure\": failure\n",
        "})\n",
        "\n",
        "# Save dataset as CSV file\n",
        "csv_filename = \"iot_sensor_data.csv\"\n",
        "df.to_csv(csv_filename, index=False)\n",
        "print(f\"Dataset generated and saved as '{csv_filename}' successfully!\")\n",
        "\n",
        "# Display first 5 rows of the dataset\n",
        "print(\"\\nFirst 5 rows of the dataset:\")\n",
        "print(df.head())\n",
        "\n",
        "# Load dataset (if running separately)\n",
        "df = pd.read_csv(\"iot_sensor_data.csv\")\n",
        "\n",
        "# Split dataset into features and labels\n",
        "X = df.drop(columns=['Failure'])  # Features\n",
        "y = df['Failure']  # Target variable\n",
        "\n",
        "# Split into training (80%) and testing (20%) sets\n",
        "X_train, X_test, y_train, y_test = train_test_split(X, y, test_size=0.2, random_state=42)\n"
      ],
      "metadata": {
        "id": "AjoFkPXp6xy7"
      },
      "execution_count": null,
      "outputs": []
    },
    {
      "cell_type": "code",
      "source": [
        "# Train a Random Forest model\n",
        "model_rf = RandomForestClassifier(n_estimators=100, random_state=42)\n",
        "model_rf.fit(X_train, y_train)\n",
        "\n",
        "# Predictions and Evaluation for Random Forest\n",
        "y_pred_rf = model_rf.predict(X_test)\n",
        "accuracy_rf = accuracy_score(y_test, y_pred_rf)\n",
        "print(\"\\nRandom Forest Model Accuracy:\", accuracy_rf)\n",
        "print(\"\\nRandom Forest Classification Report:\\n\", classification_report(y_test, y_pred_rf))\n",
        "\n",
        "# Confusion Matrix Visualization for Random Forest\n",
        "plt.figure(figsize=(5, 4))\n",
        "sns.heatmap(confusion_matrix(y_test, y_pred_rf), annot=True, fmt='d', cmap='Blues',\n",
        "            xticklabels=['No Failure', 'Failure'], yticklabels=['No Failure', 'Failure'])\n",
        "plt.xlabel(\"Predicted\")\n",
        "plt.ylabel(\"Actual\")\n",
        "plt.title(\"Random Forest Confusion Matrix\")\n",
        "plt.show()\n",
        "\n",
        "# Feature Importance Analysis for Random Forest\n",
        "feature_importance = pd.Series(model_rf.feature_importances_, index=X.columns).sort_values(ascending=False)\n",
        "plt.figure(figsize=(8, 5))\n",
        "sns.barplot(x=feature_importance, y=feature_importance.index)\n",
        "plt.xlabel(\"Feature Importance Score\")\n",
        "plt.ylabel(\"Features\")\n",
        "plt.title(\"Feature Importance in Random Forest Model\")\n",
        "plt.show()\n"
      ],
      "metadata": {
        "id": "Sg2aEeL07f4n"
      },
      "execution_count": null,
      "outputs": []
    },
    {
      "cell_type": "code",
      "source": [
        "import pandas as pd\n",
        "import numpy as np\n",
        "import matplotlib.pyplot as plt\n",
        "import seaborn as sns\n",
        "from sklearn.model_selection import train_test_split\n",
        "from sklearn.ensemble import RandomForestClassifier\n",
        "from sklearn.metrics import accuracy_score, classification_report, confusion_matrix\n",
        "from tensorflow.keras.models import Sequential\n",
        "from tensorflow.keras.layers import Dense\n",
        "\n",
        "# Set random seed for reproducibility\n",
        "np.random.seed(42)\n",
        "\n",
        "# Generate synthetic IoT sensor data\n",
        "num_samples = 1000\n",
        "iot_data = pd.DataFrame({\n",
        "    \"Temperature\": np.random.randint(30, 100, num_samples),\n",
        "    \"Vibration\": np.round(np.random.uniform(0.1, 3.0, num_samples), 2),\n",
        "    \"Pressure\": np.random.randint(50, 400, num_samples),\n",
        "    \"Humidity\": np.random.randint(20, 80, num_samples),\n",
        "    \"Machine_Age\": np.random.randint(1, 20, num_samples)\n",
        "})\n",
        "\n",
        "# Generate Failure labels (1 = Failure, 0 = No Failure)\n",
        "failure = np.where(\n",
        "    (iot_data['Temperature'] > 80) &\n",
        "    (iot_data['Vibration'] > 2.0) &\n",
        "    (iot_data['Pressure'] > 300) &\n",
        "    (iot_data['Humidity'] > 60),\n",
        "    1,\n",
        "    np.random.choice([0, 1], num_samples, p=[0.85, 0.15])\n",
        ")\n",
        "iot_data['Failure'] = failure\n",
        "\n",
        "# Split data into features and labels\n",
        "X = iot_data.drop(columns=['Failure'])\n",
        "y = iot_data['Failure']\n",
        "\n",
        "# Split into training (80%) and testing (20%) sets\n",
        "X_train, X_test, y_train, y_test = train_test_split(X, y, test_size=0.2, random_state=42)\n",
        "\n",
        "# Train a Random Forest Classifier\n",
        "rf_model = RandomForestClassifier(n_estimators=100, random_state=42)\n",
        "rf_model.fit(X_train, y_train)\n",
        "\n",
        "# Make predictions and evaluate accuracy\n",
        "rf_predictions = rf_model.predict(X_test)\n",
        "accuracy_rf = accuracy_score(y_test, rf_predictions)\n",
        "print(f\"Random Forest Model Accuracy: {accuracy_rf * 100:.2f}%\")\n",
        "\n",
        "# Generate and plot confusion matrix\n",
        "conf_matrix_rf = confusion_matrix(y_test, rf_predictions)\n",
        "sns.heatmap(conf_matrix_rf, annot=True, fmt='d', cmap='Blues',\n",
        "            xticklabels=['No Failure', 'Failure'], yticklabels=['No Failure', 'Failure'])\n",
        "plt.xlabel(\"Predicted\")\n",
        "plt.ylabel(\"Actual\")\n",
        "plt.title(\"Confusion Matrix - IoT Failure Prediction (Random Forest)\")\n",
        "plt.show()\n",
        "\n",
        "# Feature importance visualization\n",
        "feature_importance = pd.Series(rf_model.feature_importances_, index=X.columns).sort_values(ascending=False)\n",
        "plt.figure(figsize=(8, 5))\n",
        "sns.barplot(x=feature_importance, y=feature_importance.index)\n",
        "plt.xlabel(\"Feature Importance Score\")\n",
        "plt.ylabel(\"Features\")\n",
        "plt.title(\"Feature Importance in IoT Failure Prediction (Random Forest)\")\n",
        "plt.show()\n",
        "\n",
        "# Neural Network Model\n",
        "nn_model = Sequential([\n",
        "    Dense(64, activation='relu', input_shape=(X_train.shape[1],)),  # Input layer\n",
        "    Dense(32, activation='relu'),  # Hidden layer\n",
        "    Dense(1, activation='sigmoid')  # Output layer for binary classification\n",
        "])\n",
        "\n",
        "nn_model.compile(optimizer='adam', loss='binary_crossentropy', metrics=['accuracy'])\n",
        "\n",
        "# Train the neural network\n",
        "history = nn_model.fit(X_train, y_train, epochs=50, batch_size=32, validation_data=(X_test, y_test), verbose=0)\n",
        "\n",
        "# Evaluate the neural network\n",
        "nn_loss, nn_accuracy = nn_model.evaluate(X_test, y_test, verbose=0)\n",
        "print(f\"Neural Network Model Accuracy: {nn_accuracy * 100:.2f}%\")\n",
        "\n",
        "# Predictions and confusion matrix for Neural Network\n",
        "nn_predictions = (nn_model.predict(X_test) > 0.5).astype(\"int32\")\n",
        "conf_matrix_nn = confusion_matrix(y_test, nn_predictions)\n",
        "sns.heatmap(conf_matrix_nn, annot=True, fmt='d', cmap='Blues',\n",
        "            xticklabels=['No Failure', 'Failure'], yticklabels=['No Failure', 'Failure'])\n",
        "plt.xlabel(\"Predicted\")\n",
        "plt.ylabel(\"Actual\")\n",
        "plt.title(\"Confusion Matrix - IoT Failure Prediction (Neural Network)\")\n",
        "plt.show()\n",
        "\n",
        "# Plot training history\n",
        "plt.plot(history.history['accuracy'], label='accuracy')\n",
        "plt.plot(history.history['val_accuracy'], label='val_accuracy')\n",
        "plt.xlabel('Epoch')\n",
        "plt.ylabel('Accuracy')\n",
        "plt.legend()\n",
        "plt.title('Model Accuracy Over Epochs')\n",
        "plt.show()\n",
        "\n",
        "# Compare Model Accuracies\n",
        "comparison_data = pd.DataFrame({\n",
        "    'Model': ['Random Forest', 'Neural Network'],\n",
        "    'Accuracy': [accuracy_rf * 100, nn_accuracy * 100]\n",
        "})\n",
        "print(comparison_data)\n",
        "\n",
        "sns.barplot(x='Model', y='Accuracy', data=comparison_data)\n",
        "plt.title('Model Accuracy Comparison')\n",
        "plt.ylabel('Accuracy (%)')\n",
        "plt.show()\n"
      ],
      "metadata": {
        "id": "wvAaGir57koX"
      },
      "execution_count": null,
      "outputs": []
    }
  ]
}